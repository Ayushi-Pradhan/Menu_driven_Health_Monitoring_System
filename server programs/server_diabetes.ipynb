{
 "cells": [
  {
   "cell_type": "code",
   "execution_count": 1,
   "id": "35c56b28",
   "metadata": {},
   "outputs": [
    {
     "name": "stdout",
     "output_type": "stream",
     "text": [
      " * Serving Flask app \"__main__\" (lazy loading)\n",
      " * Environment: production\n",
      "\u001b[31m   WARNING: This is a development server. Do not use it in a production deployment.\u001b[0m\n",
      "\u001b[2m   Use a production WSGI server instead.\u001b[0m\n",
      " * Debug mode: off\n"
     ]
    },
    {
     "name": "stderr",
     "output_type": "stream",
     "text": [
      " * Running on http://127.0.0.1:5051/ (Press CTRL+C to quit)\n",
      "127.0.0.1 - - [14/May/2023 12:12:21] \"GET / HTTP/1.1\" 200 -\n",
      "127.0.0.1 - - [14/May/2023 12:12:21] \"GET /favicon.ico HTTP/1.1\" 404 -\n",
      "127.0.0.1 - - [14/May/2023 12:12:56] \"POST /predict3 HTTP/1.1\" 200 -\n",
      "127.0.0.1 - - [14/May/2023 12:13:34] \"POST /predict3 HTTP/1.1\" 200 -\n"
     ]
    }
   ],
   "source": [
    "import numpy as np\n",
    "import pandas as pd\n",
    "import pickle\n",
    "from sklearn import preprocessing\n",
    "from flask import Flask, request, render_template\n",
    "import warnings\n",
    "warnings.filterwarnings(\"ignore\", category=UserWarning) \n",
    "\n",
    "# Load ML model\n",
    "model = pickle.load(open('C:/Users/DELL/Documents/8th sem Project/Datasets/diabetes_model.pkl', 'rb')) \n",
    "dia_data=pd.read_csv('C:/Users/DELL/Documents/8th sem Project/Datasets/diabetes - Copy.csv')\n",
    "a=dia_data.drop('Outcome',axis=1)\n",
    "# Create application\n",
    "app = Flask(__name__,template_folder='src')\n",
    "\n",
    "# Bind home function to URL\n",
    "@app.route('/')\n",
    "def home():\n",
    "    return render_template('Components/diabetes.html')\n",
    "\n",
    "# Bind predict function to URL\n",
    "@app.route('/predict3', methods =['POST'])\n",
    "def predict3():\n",
    "    \n",
    "    # Put all form entries values in a list \n",
    "    features = [float(i) for i in request.form.values()]\n",
    "    a.loc[len(a.index)]=features\n",
    "    \n",
    "    X=a\n",
    "    headers = X.columns\n",
    "    X = preprocessing.minmax_scale(X, feature_range=(0.001, 1))\n",
    "    X= pd.DataFrame(X)\n",
    "    X.columns = headers\n",
    "    \n",
    "    # Convert features to array\n",
    "    array_features = [np.array(X.loc[len(X.index)-1])]\n",
    "    # Predict features\n",
    "    prediction = model.predict(array_features)\n",
    "    output = prediction\n",
    "    \n",
    "    # Check the output values and retrive the result with html tag based on the value\n",
    "    if output == 1:\n",
    "        return render_template('Components/diabetes.html', \n",
    "                               result = 'The patient is likely to have diabetes!')\n",
    "    else:\n",
    "        return render_template('Components/diabetes.html', \n",
    "                               result = 'The patient is not likely to have diabetes!')\n",
    "\n",
    "if __name__ == '__main__':\n",
    "#Run the application\n",
    "    app.run(host='127.0.0.1', port=5051)"
   ]
  }
 ],
 "metadata": {
  "kernelspec": {
   "display_name": "Python 3 (ipykernel)",
   "language": "python",
   "name": "python3"
  },
  "language_info": {
   "codemirror_mode": {
    "name": "ipython",
    "version": 3
   },
   "file_extension": ".py",
   "mimetype": "text/x-python",
   "name": "python",
   "nbconvert_exporter": "python",
   "pygments_lexer": "ipython3",
   "version": "3.9.7"
  }
 },
 "nbformat": 4,
 "nbformat_minor": 5
}
